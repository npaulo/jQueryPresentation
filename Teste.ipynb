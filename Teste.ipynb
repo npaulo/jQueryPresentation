{
 "cells": [
  {
   "cell_type": "markdown",
   "metadata": {
    "slideshow": {
     "slide_type": "slide"
    }
   },
   "source": [
    " # DOM & jQuery\n",
    " \n",
    "<div class=\"intro-jquery-logo\">\n",
    "    <img src=\"imgs/JQuery_logo.svg\" />\n",
    "</div>\n",
    "<div class=\"intro-logos\">\n",
    "    <img src=\"imgs/html-css-js-logos.png\" />\n",
    "</div>"
   ]
  },
  {
   "cell_type": "markdown",
   "metadata": {
    "slideshow": {
     "slide_type": "subslide"
    }
   },
   "source": [
    "<video controls>\n",
    "  <source src=\"videos/jQuery.mp4\" type=\"video/mp4\">\n",
    "</video>"
   ]
  },
  {
   "cell_type": "markdown",
   "metadata": {
    "slideshow": {
     "slide_type": "slide"
    }
   },
   "source": [
    "## DOM - Document Object Model\n",
    "\n",
    "A tree-like structure created by browsers so we can quickly find HTML Elements using JavaScript.\n"
   ]
  },
  {
   "cell_type": "markdown",
   "metadata": {
    "slideshow": {
     "slide_type": "fragment"
    }
   },
   "source": [
    "\n",
    "> - **DOM Selection**\n",
    "> - **DOM Manipulation**\n",
    "> - **Special Effects**\n",
    "> - **Events**\n",
    "> - **Ajax**\n",
    "> - **Cross-browser support**\n",
    "\n",
    "<div class=\"dom-js-logo\">\n",
    "    <img src=\"imgs/js-logo.pnh.png\"/>\n",
    "</div>"
   ]
  },
  {
   "cell_type": "markdown",
   "metadata": {
    "slideshow": {
     "slide_type": "slide"
    }
   },
   "source": [
    "## What does that DOM structure look like?\n",
    "\n",
    "<div class=\"row\">\n",
    "    <div class=\"col-md-5\">\n",
    "        The HTML\n",
    "    </div>\n",
    "    <div class=\"col-md-2\"></div>\n",
    "    <div class=\"col-md-5\">\n",
    "        The DOM\n",
    "    </div>\n",
    "</div>\n",
    "<div class=\"row\">\n",
    "    <div class=\"col-md-5\">\n",
    "    <p data-height=\"285\" data-theme-id=\"0\" data-slug-hash=\"yoexPM\" data-default-tab=\"html\" data-user=\"npaulo\" data-embed-version=\"2\" data-pen-title=\"DOM and jQuery \" class=\"codepen\">See the Pen <a href=\"https://codepen.io/npaulo/pen/yoexPM/\">DOM and jQuery </a> by Nuno Correia (<a href=\"https://codepen.io/npaulo\">@npaulo</a>) on <a href=\"https://codepen.io\">CodePen</a>.</p>\n",
    "<script async src=\"https://production-assets.codepen.io/assets/embed/ei.js\"></script>\n",
    "\n",
    "        <div class=\"bs-callout bs-callout-info\">\n",
    "            <p>Inside the DOM, HTML elements become “nodes” which have relationships with one another.</p>\n",
    "        </div>\n",
    "    </div>\n",
    "    <div class=\"col-md-2\">\n",
    "    </div>\n",
    "    <div class=\"col-md-5\">\n",
    "        <div class=\"thumbnail blue2\"><img src= \"imgs/DOM_tree.png\"/></div>\n",
    "    </div>\n",
    "</div>\n"
   ]
  },
  {
   "cell_type": "markdown",
   "metadata": {
    "slideshow": {
     "slide_type": "slide"
    }
   },
   "source": [
    "## How do we search through the DOM?\n",
    "\n",
    "<div class=\"bs-callout bs-callout-info\">\n",
    "    <p>JavaScript gives developers a language to interact with the DOM.</p>\n",
    "    <div class=\"search-dom-js-logo\"><img src=\"imgs/js-logo.pnh.png\"></div>\n",
    "</div>\n",
    "\n",
    "<div class=\"row\">\n",
    "    <div class=\"col-md-5\">\n",
    "        <p data-height=\"285\" data-theme-id=\"0\" data-slug-hash=\"yoexPM\" data-default-tab=\"html\" data-user=\"npaulo\" data-embed-version=\"2\" data-pen-title=\"DOM and jQuery \" class=\"codepen\">See the Pen <a href=\"https://codepen.io/npaulo/pen/yoexPM/\">DOM and jQuery </a> by Nuno Correia (<a href=\"https://codepen.io/npaulo\">@npaulo</a>) on <a href=\"https://codepen.io\">CodePen</a>.</p>\n",
    "<script async src=\"https://production-assets.codepen.io/assets/embed/ei.js\"></script>\n",
    "    </div>\n",
    "    <div class=\"col-md-2\">\n",
    "    </div>\n",
    "    <div class=\"col-md-5\">\n",
    "<pre>Examples:<code class=\"javascript\">// Get page title\n",
    "> $(\"title\").text()\n",
    "< \"jQuery Adventures\"\n",
    "\n",
    "// Get children of \"body\"\n",
    "> $(\"body\").children()\n",
    "< [h1, p]\n",
    "\n",
    "</code></pre>\n",
    "    </div>\n",
    "</div>"
   ]
  },
  {
   "cell_type": "markdown",
   "metadata": {
    "slideshow": {
     "slide_type": "slide"
    }
   },
   "source": [
    "## TRY IT YOURSELF\n",
    "\n",
    "<div class=\"row form-horizontal\">\n",
    "    <div class=\"col-md-4\">\n",
    "        Message:\n",
    "    </div>\n",
    "    <div class=\"col-md-8\">\n",
    "        <input type=\"text\" id=\"mirror-msg\"/> <button id=\"mirror\">Reverse</button>\n",
    "    </div>\n",
    "</div>\n",
    "<div class=\"row form-horizontal\">\n",
    "    <div class=\"col-md-4\">\n",
    "        Reversed:\n",
    "    </div>\n",
    "    <div class=\"col-md-8\">\n",
    "        <span id=\"mirror-result\" class=\"hide\"></span>\n",
    "    </div>\n",
    "</div>\n",
    "\n",
    "\n",
    "<script>\n",
    "function reverse(s){\n",
    "    return s.split(\"\").reverse().join(\"\");\n",
    "}\n",
    "$(function(){\n",
    "    $(\"#mirror\").click(function(){\n",
    "        $(\"#mirror-result\").text(reverse($(\"#mirror-msg\").val())).removeClass(\"hide\");\n",
    "    });\n",
    "});\n",
    "</script>"
   ]
  },
  {
   "cell_type": "markdown",
   "metadata": {
    "slideshow": {
     "slide_type": "slide"
    }
   },
   "source": [
    "## jQuery voodoo!!!\n",
    "\n",
    "<div id=\"jquery-voodoo\">\n",
    "<a href=\"#\" class=\"disapear\" style=\"cursor:help\">If you click on me, I will disappear.</a><br>\n",
    "<a href=\"#\" class=\"disapear\" style=\"cursor:help\">Click me away!</a><br>\n",
    "<a href=\"#\" class=\"disapear\" style=\"cursor:help\">Click me too!</a><br>\n",
    "</div>\n",
    "<script>\n",
    "$(function(){\n",
    "    $(\".disapear\").click(function(e){\n",
    "        e.preventDefault();\n",
    "        $(this)\n",
    "          .animate({\"font-size\": \"3em\"}, 250)\n",
    "          .slideUp();\n",
    "          \n",
    "        var anchors = $(\"#jquery-voodoo a:visible\");\n",
    "        if (anchors.length == 1) {\n",
    "            var height = $(\"body\").height();\n",
    "            $(\".chuck-table\").css(\"display\", \"table\");\n",
    "            $(\"#chuck\")\n",
    "                .show()\n",
    "                .animate({\n",
    "                    opacity: 1,\n",
    "                    width: height + \"px\",\n",
    "                    height: height + \"px\",\n",
    "                }, function() {\n",
    "                   $(\"#chuck\").click(function(){\n",
    "                       var width = $(\"body\").width();\n",
    "                       $(this).animate({\n",
    "                            opacity: 0,\n",
    "                            width: width + \"px\",\n",
    "                            height: width + \"px\",\n",
    "                       }, function(){\n",
    "                           $(\".chuck-table\").remove();\n",
    "                       });\n",
    "                   }); \n",
    "                });\n",
    "        }\n",
    "    });\n",
    "});\n",
    "</script>"
   ]
  },
  {
   "cell_type": "markdown",
   "metadata": {
    "slideshow": {
     "slide_type": "slide"
    }
   },
   "source": [
    "## Get Started\n",
    "\n",
    "http://jquery.com/download/\n",
    "\n",
    "+ Downloading jQuery file:\n",
    "    - Development version\n",
    "    - Production version\n",
    "```html\n",
    "<script src=\"jquery-3.2.1.min.js\"></script>\n",
    "```\n",
    "\n",
    "+ Include it from a CDN (Content Delivery Network), Google, Microsoft, CDNjs, others...\n",
    "```html\n",
    "<script src=\"https://ajax.aspnetcdn.com/ajax/jQuery/jquery-3.2.1.min.js\"></script>\n",
    "```"
   ]
  },
  {
   "cell_type": "markdown",
   "metadata": {
    "slideshow": {
     "slide_type": "slide"
    }
   },
   "source": [
    "## The Document Ready Event\n",
    "\n",
    "This is to prevent any jQuery code from running before the document is finished loading (is ready).\n",
    "\n",
    "<pre>\n",
    "<b>Long form:</b>\n",
    "<code class=\"javascript\">$(document).ready(function(){\n",
    "   // jQuery methods go here...\n",
    "});\n",
    "</code></pre>\n",
    "\n",
    "<pre>\n",
    "<b>Short form:</b>\n",
    "<code class=\"javascript\">$(function(){\n",
    "   // jQuery methods go here...\n",
    "});\n",
    "</code></pre>"
   ]
  },
  {
   "cell_type": "markdown",
   "metadata": {
    "slideshow": {
     "slide_type": "slide"
    }
   },
   "source": [
    "## Basic Syntax\n",
    "\n",
    "<pre><code class=\"javascript\">$(\"selector\").action()</code></pre>\n",
    "\n",
    "- A **$** sign to define/access jQuery\n",
    "- A **(selector)** to \"query (or find)\" HTML elements\n",
    "- A jQuery **action()** to be performed on the element(s)\n",
    "<br>"
   ]
  },
  {
   "cell_type": "markdown",
   "metadata": {
    "slideshow": {
     "slide_type": "slide"
    }
   },
   "source": [
    "## Basic Selectors\n",
    "\n",
    "|Syntax|Description|\n",
    "|------|-----------|\n",
    "|<pre><code class=\"javascript\">$(\"*\")</code></pre>|Select all elements.|\n",
    "|<pre><code class=\"javascript\">$(\".class-name\")</code></pre>|Selects all elements with the given css class.|\n",
    "|<pre><code class=\"javascript\">$(\"span\")</code></pre>|Selects all elements with the given tag name.|\n",
    "|<pre><code class=\"javascript\">$(\"#id\")</code></pre>|Selects a single element with the given id attribute.|\n"
   ]
  },
  {
   "cell_type": "markdown",
   "metadata": {
    "slideshow": {
     "slide_type": "fragment"
    }
   },
   "source": [
    "Selects the combined results of all the specified selectors.\n",
    "<pre><code class=\"javascript\">$(\"selector1, selector2, selectorN\")</code></pre>\n"
   ]
  },
  {
   "cell_type": "markdown",
   "metadata": {
    "slideshow": {
     "slide_type": "subslide"
    }
   },
   "source": [
    "<p data-height=\"409\" data-theme-id=\"0\" data-slug-hash=\"wqaWab\" data-default-tab=\"html,result\" data-user=\"npaulo\" data-embed-version=\"2\" data-pen-title=\"jQuery Selectors\" class=\"codepen\">See the Pen <a href=\"https://codepen.io/npaulo/pen/wqaWab/\">jQuery Selectors</a> by Nuno Correia (<a href=\"https://codepen.io/npaulo\">@npaulo</a>) on <a href=\"https://codepen.io\">CodePen</a>.</p>\n",
    "<script async src=\"https://production-assets.codepen.io/assets/embed/ei.js\"></script>"
   ]
  },
  {
   "cell_type": "markdown",
   "metadata": {
    "slideshow": {
     "slide_type": "subslide"
    }
   },
   "source": [
    "##  Hierarchy Selectors\n",
    "\n",
    "|Syntax|Description|\n",
    "|------|-----------|\n",
    "|<pre><code class=\"javascript\">$(\".content > b\")</code></pre>|Selects all direct child elements specified by “b” (child) of elements specified by “.content” (parent).|\n",
    "|<pre><code class=\"javascript\">$(\"ul label\")</code></pre>|Selects all elements that are descendants of a given ancestor.|\n",
    "|<pre><code class=\"javascript\">$(\"ul[data-list=first] + b\")</code></pre>|Selects all next elements matching “b” (next) that are immediately preceded by a sibling “ul[data-list=first]” (prev).|\n",
    "|<pre><code class=\"javascript\">$(\"ul[data-list=first] ~ ul\")</code></pre>|Selects all sibling elements that follow after the “ul[data-list=first]” (prev) element, have the same parent, and match the filtering “ul” (siblings) selector.|"
   ]
  },
  {
   "cell_type": "markdown",
   "metadata": {
    "slideshow": {
     "slide_type": "subslide"
    }
   },
   "source": [
    "## More Selectors\n",
    "\n",
    "|Syntax|Description|\n",
    "|------|-----------|\n",
    "|<pre><code class=\"javascript\">$(this)</code></pre>               | Selects the current HTML element|\n",
    "|<pre><code class=\"javascript\">$(\"b.intro\")</code></pre>          | Selects all ```<b>``` elements with class=\"intro\"|\n",
    "|<pre><code class=\"javascript\">$(\"b:first\")</code></pre>          | Selects the first ```<b>``` element|\n",
    "|<pre><code class=\"javascript\">$(\"ul li:first\")</code></pre>      | Selects the first ```<li>``` element of the first ```<ul>```|\n",
    "|<pre><code class=\"javascript\">$(\"ul li:first-child\")</code></pre>|Selects the first ```<li>``` element of every ```<ul>```|\n",
    "|<pre><code class=\"javascript\">$(\"[data-list]\")</code></pre>      |Selects all elements with an ```data-list``` attribute|\n",
    "|<pre><code class=\"javascript\">$(\":hidden\")</code></pre>          |Selects all elements that are hidden|\n",
    "\n",
    "\n",
    "\n"
   ]
  },
  {
   "cell_type": "markdown",
   "metadata": {
    "slideshow": {
     "slide_type": "subslide"
    }
   },
   "source": [
    "## More Selectors\n",
    "\n",
    "|Syntax|Description|\n",
    "|------|-----------|\n",
    "| <pre><code class=\"javascript\">$(\"ul[data-list='first']\")</code></pre>  | Selects all ```<ul>``` elements with a target attribute value equal to \"first\"|\n",
    "| <pre><code class=\"javascript\">$(\"ul[data-list!='first']\")</code></pre> | Selects all ```<ul>``` elements with a target attribute value NOT equal to \"first\"|\n",
    "| <pre><code class=\"javascript\">$(\":button\")</code></pre>             | Selects all ```<button>``` elements and ```<input>``` elements of type=\"button\"|\n",
    "| <pre><code class=\"javascript\">$(\"li:even\")</code></pre>             | Selects all even ```<li>``` elements|\n",
    "| <pre><code class=\"javascript\">$(\"li:odd\")</code></pre>              | Selects all odd ```<li>``` elements|\n",
    "\n",
    "For more details <a href=\"http://api.jquery.com/category/selectors/\" target=\"_blank\">http://api.jquery.com/category/selectors/</a>\n"
   ]
  },
  {
   "cell_type": "markdown",
   "metadata": {
    "slideshow": {
     "slide_type": "slide"
    }
   },
   "source": [
    "## HTML Content and Attributes\n",
    "\n",
    "<div class=\"bs-callout bs-callout-info\">\n",
    "Four simple, but useful, jQuery methods for DOM manipulation are:\n",
    "</div>\n",
    "- __.text()__ - Gets or Sets the text content of selected elements\n",
    "- __.html()__ - Gets or Sets the content of selected elements (including HTML markup)\n",
    "- __.val()__ - Gets or Sets the value of form fields\n",
    "- __.attr()__ - Gets or Sets the attribute value\n",
    "\n"
   ]
  },
  {
   "cell_type": "markdown",
   "metadata": {
    "slideshow": {
     "slide_type": "fragment"
    }
   },
   "source": [
    "<pre><b>Get value:</b><code class=\"javascript\">console.log(\"Text: \" + $(\"#test\").text());</code></pre>\n",
    "\n",
    "<pre><b>Set value:</b><code class=\"javascript\">$(\"#test\").text(\"Set this text!!!\");</code></pre>"
   ]
  },
  {
   "cell_type": "markdown",
   "metadata": {
    "slideshow": {
     "slide_type": "subslide"
    }
   },
   "source": [
    "## .text() and .html()\n",
    "\n",
    "<p data-height=\"312\" data-theme-id=\"0\" data-slug-hash=\"gxaZaV\" data-default-tab=\"result\" data-user=\"npaulo\" data-embed-version=\"2\" data-pen-title=\"jQuery Actions - text() and html()\" class=\"codepen\">See the Pen <a href=\"https://codepen.io/npaulo/pen/gxaZaV/\">jQuery Actions - text() and html()</a> by Nuno Correia (<a href=\"https://codepen.io/npaulo\">@npaulo</a>) on <a href=\"https://codepen.io\">CodePen</a>.</p>\n",
    "<script async src=\"https://production-assets.codepen.io/assets/embed/ei.js\"></script>\n",
    "\n",
    "<a href=\"http://api.jquery.com/text/\" target=\"_blank\">http://api.jquery.com/text/</a><br>\n",
    "<a href=\"http://api.jquery.com/html/\" target=\"_blank\">http://api.jquery.com/html/</a>"
   ]
  },
  {
   "cell_type": "markdown",
   "metadata": {
    "slideshow": {
     "slide_type": "subslide"
    }
   },
   "source": [
    "## .val()\n",
    "\n",
    "<p data-height=\"265\" data-theme-id=\"0\" data-slug-hash=\"NvGeyb\" data-default-tab=\"result\" data-user=\"npaulo\" data-embed-version=\"2\" data-pen-title=\"jQuery Actions - val()\" class=\"codepen\">See the Pen <a href=\"https://codepen.io/npaulo/pen/NvGeyb/\">jQuery Actions - val()</a> by Nuno Correia (<a href=\"https://codepen.io/npaulo\">@npaulo</a>) on <a href=\"https://codepen.io\">CodePen</a>.</p>\n",
    "<script async src=\"https://production-assets.codepen.io/assets/embed/ei.js\"></script>\n",
    "\n",
    "<a href=\"http://api.jquery.com/val/\" target=\"_blank\">http://api.jquery.com/val/</a>\n"
   ]
  },
  {
   "cell_type": "markdown",
   "metadata": {
    "slideshow": {
     "slide_type": "subslide"
    }
   },
   "source": [
    "## .attr()\n",
    "\n",
    "<p data-height=\"280\" data-theme-id=\"0\" data-slug-hash=\"zdveOy\" data-default-tab=\"result\" data-user=\"npaulo\" data-embed-version=\"2\" data-pen-title=\"jQuery Actions - attr()\" class=\"codepen\">See the Pen <a href=\"https://codepen.io/npaulo/pen/zdveOy/\">jQuery Actions - attr()</a> by Nuno Correia (<a href=\"https://codepen.io/npaulo\">@npaulo</a>) on <a href=\"https://codepen.io\">CodePen</a>.</p>\n",
    "<script async src=\"https://production-assets.codepen.io/assets/embed/ei.js\"></script>\n",
    "\n",
    "<a href=\"http://api.jquery.com/attr/\" target=\"_blank\">http://api.jquery.com/attr/</a>"
   ]
  },
  {
   "cell_type": "markdown",
   "metadata": {
    "slideshow": {
     "slide_type": "subslide"
    }
   },
   "source": [
    "## Add New HTML Content\n",
    "\n",
    "<div class=\"bs-callout bs-callout-info\">\n",
    "We will look at four jQuery methods that are used to add new content:\n",
    "</div>\n",
    "\n",
    "- __.append()__ - Inserts content at the end of the selected elements\n",
    "- __.prepend()__ - Inserts content at the beginning of the selected elements\n",
    "- __.after()__ - Inserts content after the selected elements\n",
    "- __.before()__ - Inserts content before the selected elements\n"
   ]
  },
  {
   "cell_type": "markdown",
   "metadata": {
    "slideshow": {
     "slide_type": "subslide"
    }
   },
   "source": [
    "## .append() VS .prepend()\n",
    "\n",
    "<p data-height=\"438\" data-theme-id=\"0\" data-slug-hash=\"JyGBNb\" data-default-tab=\"result\" data-user=\"npaulo\" data-embed-version=\"2\" data-pen-title=\"jQuery Actions - append() vs prepend()\" class=\"codepen\">See the Pen <a href=\"https://codepen.io/npaulo/pen/JyGBNb/\">jQuery Actions - append() vs prepend()</a> by Nuno Correia (<a href=\"https://codepen.io/npaulo\">@npaulo</a>) on <a href=\"https://codepen.io\">CodePen</a>.</p>\n",
    "<script async src=\"https://production-assets.codepen.io/assets/embed/ei.js\"></script>"
   ]
  },
  {
   "cell_type": "markdown",
   "metadata": {
    "slideshow": {
     "slide_type": "subslide"
    }
   },
   "source": [
    "## .after() VS .before()\n",
    "\n",
    "<p data-height=\"357\" data-theme-id=\"0\" data-slug-hash=\"qXbyJX\" data-default-tab=\"result\" data-user=\"npaulo\" data-embed-version=\"2\" data-pen-title=\"jQuery Actions - .after() VS .before()\" class=\"codepen\">See the Pen <a href=\"https://codepen.io/npaulo/pen/qXbyJX/\">jQuery Actions - .after() VS .before()</a> by Nuno Correia (<a href=\"https://codepen.io/npaulo\">@npaulo</a>) on <a href=\"https://codepen.io\">CodePen</a>.</p>\n",
    "<script async src=\"https://production-assets.codepen.io/assets/embed/ei.js\"></script>"
   ]
  },
  {
   "cell_type": "markdown",
   "metadata": {
    "slideshow": {
     "slide_type": "subslide"
    }
   },
   "source": [
    "## Remove Elements/Content\n",
    "\n",
    "<div class=\"bs-callout bs-callout-info\">\n",
    "To remove elements and content, there are mainly two jQuery methods:\n",
    "</div>\n",
    "\n",
    "- __.remove()__ - Removes the selected element (and its child elements)\n",
    "- __.empty()__ - Removes the child elements from the selected element"
   ]
  },
  {
   "cell_type": "markdown",
   "metadata": {
    "slideshow": {
     "slide_type": "subslide"
    }
   },
   "source": [
    "## .remove() VS .empty()\n",
    "\n",
    "<p data-height=\"406\" data-theme-id=\"0\" data-slug-hash=\"NvxLxW\" data-default-tab=\"result\" data-user=\"npaulo\" data-embed-version=\"2\" data-pen-title=\"jQuery Actions - .remove() VS .empty()\" class=\"codepen\">See the Pen <a href=\"https://codepen.io/npaulo/pen/NvxLxW/\">jQuery Actions - .remove() VS .empty()</a> by Nuno Correia (<a href=\"https://codepen.io/npaulo\">@npaulo</a>) on <a href=\"https://codepen.io\">CodePen</a>.</p>\n",
    "<script async src=\"https://production-assets.codepen.io/assets/embed/ei.js\"></script>"
   ]
  },
  {
   "cell_type": "markdown",
   "metadata": {
    "slideshow": {
     "slide_type": "subslide"
    }
   },
   "source": [
    "## Manipulating CSS\n",
    "\n",
    "<div class=\"bs-callout bs-callout-info\">\n",
    "jQuery has several methods for CSS manipulation. We will look at the following methods:\n",
    "</div>\n",
    "\n",
    "- __.addClass()__ - Adds one or more classes to the selected elements\n",
    "- __.removeClass()__ - Removes one or more classes from the selected elements\n",
    "- __.toggleClass()__ - Toggles between adding/removing classes from the selected elements\n",
    "- __.hasClass()__ - Determine whether any of the matched elements are assigned the given class\n",
    "- __.css()__ - Sets or returns the style attribute"
   ]
  },
  {
   "cell_type": "markdown",
   "metadata": {
    "slideshow": {
     "slide_type": "subslide"
    }
   },
   "source": [
    "## Manipulating CSS\n",
    "\n",
    "<p data-height=\"451\" data-theme-id=\"0\" data-slug-hash=\"OjNNqj\" data-default-tab=\"result\" data-user=\"npaulo\" data-embed-version=\"2\" data-pen-title=\"jQuery .css()\" class=\"codepen\">See the Pen <a href=\"https://codepen.io/npaulo/pen/OjNNqj/\">jQuery .css()</a> by Nuno Correia (<a href=\"https://codepen.io/npaulo\">@npaulo</a>) on <a href=\"https://codepen.io\">CodePen</a>.</p>\n",
    "<script async src=\"https://production-assets.codepen.io/assets/embed/ei.js\"></script>"
   ]
  },
  {
   "cell_type": "markdown",
   "metadata": {
    "slideshow": {
     "slide_type": "slide"
    }
   },
   "source": [
    "## Events\n",
    "\n",
    "Examples:\n",
    "- moving a mouse over an element\n",
    "- selecting a radio button\n",
    "- clicking on an element\n",
    "<br><br>\n",
    "\n",
    "|Mouse Events|Keyboard Events|Form Events|Document/Window Events|\n",
    "|----|----|----|-----|\n",
    "|click|keypress|submit|load|\n",
    "|dblclick|keydown|change|resize|\n",
    "|mouseenter|keyup|focus|scroll|\n",
    "|mouseleave| |blur|unload|\n",
    "\n",
    "<a href=\"https://api.jquery.com/category/events/\" target=\"_blank\">https://api.jquery.com/category/events/</a>"
   ]
  },
  {
   "cell_type": "markdown",
   "metadata": {
    "slideshow": {
     "slide_type": "subslide"
    }
   },
   "source": [
    "## Event Methods\n",
    "\n",
    "_Specific event methods_\n",
    "- __.click( handler )__ - Bind an event handler to the \"click\" JavaScript event;\n",
    "- __.click()__ - Trigger \"click\" on an element;\n",
    "- __.blur( handler ), .blur(), .change( handler ), .change(), ...__\n",
    "\n",
    "<p data-height=\"249\" data-theme-id=\"0\" data-slug-hash=\"eEJyVe\" data-default-tab=\"result\" data-user=\"npaulo\" data-embed-version=\"2\" data-pen-title=\"jQuery Events\" class=\"codepen\">See the Pen <a href=\"https://codepen.io/npaulo/pen/eEJyVe/\">jQuery Events</a> by Nuno Correia (<a href=\"https://codepen.io/npaulo\">@npaulo</a>) on <a href=\"https://codepen.io\">CodePen</a>.</p>\n",
    "<script async src=\"https://production-assets.codepen.io/assets/embed/ei.js\"></script>"
   ]
  },
  {
   "cell_type": "markdown",
   "metadata": {
    "slideshow": {
     "slide_type": "subslide"
    }
   },
   "source": [
    "## Events other syntax\n",
    "\n",
    "_The other syntax_\n",
    "- __.on()__ - Attach an event handler function for one or more events to the selected elements;\n",
    "- __.off()__ - Remove an event handler;\n",
    "- __.trigger( eventType )__ - Execute all handlers attached to the matched elements for the given event type.\n",
    "\n",
    "<p data-height=\"317\" data-theme-id=\"0\" data-slug-hash=\"KvVZzz\" data-default-tab=\"result\" data-user=\"npaulo\" data-embed-version=\"2\" data-pen-title=\"jQuery Events - click() VS on()\" class=\"codepen\">See the Pen <a href=\"https://codepen.io/npaulo/pen/KvVZzz/\">jQuery Events - click() VS on()</a> by Nuno Correia (<a href=\"https://codepen.io/npaulo\">@npaulo</a>) on <a href=\"https://codepen.io\">CodePen</a>.</p>\n",
    "<script async src=\"https://production-assets.codepen.io/assets/embed/ei.js\"></script>"
   ]
  },
  {
   "cell_type": "markdown",
   "metadata": {
    "slideshow": {
     "slide_type": "slide"
    }
   },
   "source": [
    "## AJAX - Asynchronous JavaScript and XML\n",
    "\n",
    "<div class=\"bs-callout bs-callout-info\">\n",
    "    AJAX is about loading data in the background and display it on the webpage, without reloading the whole page.\n",
    "</div>\n",
    "\n",
    "- __.load()__ - The method loads data from a server and puts the returned data into the selected element;\n",
    "- __.get()__ - Requests data from a specified resource;\n",
    "- __.post()__ - Submits data to be processed to a specified resource;\n",
    "- __.ajax()__ - Generic ajax request;\n"
   ]
  },
  {
   "cell_type": "markdown",
   "metadata": {
    "slideshow": {
     "slide_type": "subslide"
    }
   },
   "source": [
    "## AJAX Example\n",
    "\n",
    "<p data-height=\"339\" data-theme-id=\"0\" data-slug-hash=\"xLZaBy\" data-default-tab=\"result\" data-user=\"npaulo\" data-embed-version=\"2\" data-pen-title=\"jQuery Ajax\" class=\"codepen\">See the Pen <a href=\"https://codepen.io/npaulo/pen/xLZaBy/\">jQuery Ajax</a> by Nuno Correia (<a href=\"https://codepen.io/npaulo\">@npaulo</a>) on <a href=\"https://codepen.io\">CodePen</a>.</p>\n",
    "<script async src=\"https://production-assets.codepen.io/assets/embed/ei.js\"></script>"
   ]
  },
  {
   "cell_type": "markdown",
   "metadata": {
    "slideshow": {
     "slide_type": "slide"
    }
   },
   "source": [
    "## Basic Effects\n",
    "\n",
    "<p data-height=\"345\" data-theme-id=\"0\" data-slug-hash=\"PKNXer\" data-default-tab=\"result\" data-user=\"npaulo\" data-embed-version=\"2\" data-pen-title=\"jQuery Effects\" class=\"codepen\">See the Pen <a href=\"https://codepen.io/npaulo/pen/PKNXer/\">jQuery Effects</a> by Nuno Correia (<a href=\"https://codepen.io/npaulo\">@npaulo</a>) on <a href=\"https://codepen.io\">CodePen</a>.</p>\n",
    "<script async src=\"https://production-assets.codepen.io/assets/embed/ei.js\"></script>"
   ]
  },
  {
   "cell_type": "markdown",
   "metadata": {
    "slideshow": {
     "slide_type": "subslide"
    }
   },
   "source": [
    "## Animations\n",
    "\n",
    "<p data-height=\"311\" data-theme-id=\"0\" data-slug-hash=\"jLqdgx\" data-default-tab=\"result\" data-user=\"npaulo\" data-embed-version=\"2\" data-pen-title=\"jQuery Animations\" class=\"codepen\">See the Pen <a href=\"https://codepen.io/npaulo/pen/jLqdgx/\">jQuery Animations</a> by Nuno Correia (<a href=\"https://codepen.io/npaulo\">@npaulo</a>) on <a href=\"https://codepen.io\">CodePen</a>.</p>\n",
    "<script async src=\"https://production-assets.codepen.io/assets/embed/ei.js\"></script>"
   ]
  },
  {
   "cell_type": "markdown",
   "metadata": {
    "slideshow": {
     "slide_type": "slide"
    }
   },
   "source": [
    "# Questions?\n",
    "\n",
    "- [jQuery API](http://api.jquery.com)\n",
    "- [You might not need jQuery](http://youmightnotneedjquery.com/)\n",
    "- [Presentation Examples](https://codepen.io/collection/nkLJGQ/)\n",
    "\n",
    "\n",
    "<div class=\"questions-img\">\n",
    "    <img src=\"imgs/dom-and-jquery.png\"/>\n",
    "</div>"
   ]
  }
 ],
 "metadata": {
  "celltoolbar": "Slideshow",
  "kernelspec": {
   "display_name": "Python 2",
   "language": "python",
   "name": "python2"
  },
  "language_info": {
   "codemirror_mode": {
    "name": "ipython",
    "version": 2
   },
   "file_extension": ".py",
   "mimetype": "text/x-python",
   "name": "python",
   "nbconvert_exporter": "python",
   "pygments_lexer": "ipython2",
   "version": "2.7.12"
  }
 },
 "nbformat": 4,
 "nbformat_minor": 2
}
